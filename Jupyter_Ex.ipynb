{
 "cells": [
  {
   "cell_type": "code",
   "execution_count": 1,
   "id": "13f5fe83-3c36-40fc-81dd-6535e20f08d6",
   "metadata": {},
   "outputs": [],
   "source": [
    "import json\n",
    "path = '/home/adrian/Documents/Python/Jupyter/pydata-book/ch02/usagov_bitly_data2012-03-16-1331923249.txt'"
   ]
  },
  {
   "cell_type": "code",
   "execution_count": 2,
   "id": "2a031d07-da73-4dad-9121-50111f8f818e",
   "metadata": {},
   "outputs": [
    {
     "data": {
      "text/plain": [
       "'{ \"a\": \"Mozilla\\\\/5.0 (Windows NT 6.1; WOW64) AppleWebKit\\\\/535.11 (KHTML, like Gecko) Chrome\\\\/17.0.963.78 Safari\\\\/535.11\", \"c\": \"US\", \"nk\": 1, \"tz\": \"America\\\\/New_York\", \"gr\": \"MA\", \"g\": \"A6qOVH\", \"h\": \"wfLQtf\", \"l\": \"orofrog\", \"al\": \"en-US,en;q=0.8\", \"hh\": \"1.usa.gov\", \"r\": \"http:\\\\/\\\\/www.facebook.com\\\\/l\\\\/7AQEFzjSi\\\\/1.usa.gov\\\\/wfLQtf\", \"u\": \"http:\\\\/\\\\/www.ncbi.nlm.nih.gov\\\\/pubmed\\\\/22415991\", \"t\": 1331923247, \"hc\": 1331822918, \"cy\": \"Danvers\", \"ll\": [ 42.576698, -70.954903 ] }\\n'"
      ]
     },
     "execution_count": 2,
     "metadata": {},
     "output_type": "execute_result"
    }
   ],
   "source": [
    "open(path).readline()"
   ]
  },
  {
   "cell_type": "code",
   "execution_count": null,
   "id": "8c853acd-570b-4dc1-8b4f-54a5a2f2bd56",
   "metadata": {},
   "outputs": [],
   "source": []
  },
  {
   "cell_type": "code",
   "execution_count": 91,
   "id": "1aa33277-7e5b-405d-8a50-4965ff9768a6",
   "metadata": {
    "tags": []
   },
   "outputs": [
    {
     "data": {
      "text/plain": [
       "<AxesSubplot:>"
      ]
     },
     "execution_count": 91,
     "metadata": {},
     "output_type": "execute_result"
    },
    {
     "data": {
      "image/png": "[encoded data removed]",
      "text/plain": [
       "<Figure size 540x252 with 1 Axes>"
      ]
     },
     "metadata": {
      "needs_background": "light"
     },
     "output_type": "display_data"
    }
   ],
   "source": [
    "from pandas import DataFrame, Series\n",
    "import pandas as pd\n",
    "import numpy as np\n",
    "\n",
    "import json\n",
    "path = '/home/adrian/Documents/Python/Jupyter/pydata-book/ch02/usagov_bitly_data2012-03-16-1331923249.txt'\n",
    "\n",
    "records = [json.loads(line) for line in open(path)]\n",
    "\n",
    "timezones = [rec['tz'] for rec in records if 'tz' in rec]\n",
    "timezones[:10]\n",
    "\n",
    "frame = DataFrame(records)\n",
    "\n",
    "clear_tz = frame['tz'].fillna('Missing')\n",
    "\n",
    "clear_tz[clear_tz == ''] = 'Unknown'\n",
    "\n",
    "results = [str(x).split() for x in frame.a.dropna()]\n",
    "\n",
    "cframe = DataFrame(frame[frame.a.notnull()])\n",
    "\n",
    "op_system = []\n",
    "for x in cframe['a']:\n",
    "    if 'Windows' in x or 'windows' in x:\n",
    "        op_system.append('Windows')\n",
    "    else:\n",
    "        op_system.append('Not Windows')\n",
    "\n",
    "# op_system = np.where(cframe['a'].str.contains('Windows'), 'Windows', 'Not Windows')\n",
    "\n",
    "by_tz = cframe.groupby(['tz', op_system])\n",
    "\n",
    "aggregate = by_tz.size().unstack().fillna(0)\n",
    "indices = [ind for ind in aggregate.index]\n",
    "indices[indices == ''] = 'Unknown'\n",
    "aggregate.index = indices\n",
    "\n",
    "indexer = aggregate.sum(1).argsort()\n",
    "count_subset = aggregate.take(indexer)[-10:]\n",
    "\n",
    "norm_subset = count_subset.div(count_subset.sum(1), axis=0)\n",
    "norm_subset.plot(kind='barh', stacked=True)\n",
    "\n",
    "\n",
    "\n",
    "\n",
    "# operating_system.value_counts().plot(kind='barh')\n",
    "\n"
   ]
  },
  {
   "cell_type": "code",
   "execution_count": 102,
   "id": "5890e3ca-197a-4d6c-a92e-9f252e842b09",
   "metadata": {},
   "outputs": [
    {
     "ename": "NameError",
     "evalue": "name 'unames' is not defined",
     "output_type": "error",
     "traceback": [
      "\u001b[0;31m---------------------------------------------------------------------------\u001b[0m",
      "\u001b[0;31mNameError\u001b[0m                                 Traceback (most recent call last)",
      "\u001b[0;32m/tmp/ipykernel_4498/3748557914.py\u001b[0m in \u001b[0;36m<module>\u001b[0;34m\u001b[0m\n\u001b[1;32m     14\u001b[0m \u001b[0;34m\u001b[0m\u001b[0m\n\u001b[1;32m     15\u001b[0m \u001b[0musers\u001b[0m \u001b[0;34m=\u001b[0m \u001b[0;34m[\u001b[0m\u001b[0;34m'user id'\u001b[0m\u001b[0;34m,\u001b[0m \u001b[0;34m'gender'\u001b[0m\u001b[0;34m,\u001b[0m \u001b[0;34m'age'\u001b[0m\u001b[0;34m,\u001b[0m \u001b[0;34m'occupation'\u001b[0m\u001b[0;34m,\u001b[0m \u001b[0;34m'zip'\u001b[0m\u001b[0;34m]\u001b[0m\u001b[0;34m\u001b[0m\u001b[0;34m\u001b[0m\u001b[0m\n\u001b[0;32m---> 16\u001b[0;31m \u001b[0musers\u001b[0m \u001b[0;34m=\u001b[0m \u001b[0mpd\u001b[0m\u001b[0;34m.\u001b[0m\u001b[0mread_table\u001b[0m\u001b[0;34m(\u001b[0m\u001b[0mpath_3\u001b[0m\u001b[0;34m,\u001b[0m \u001b[0msep\u001b[0m\u001b[0;34m=\u001b[0m\u001b[0;34m'::'\u001b[0m\u001b[0;34m,\u001b[0m \u001b[0mheader\u001b[0m\u001b[0;34m=\u001b[0m\u001b[0;32mNone\u001b[0m\u001b[0;34m,\u001b[0m \u001b[0mnames\u001b[0m\u001b[0;34m=\u001b[0m\u001b[0munames\u001b[0m\u001b[0;34m,\u001b[0m \u001b[0mengine\u001b[0m\u001b[0;34m=\u001b[0m\u001b[0;34m'python'\u001b[0m\u001b[0;34m)\u001b[0m\u001b[0;34m\u001b[0m\u001b[0;34m\u001b[0m\u001b[0m\n\u001b[0m\u001b[1;32m     17\u001b[0m \u001b[0musers\u001b[0m\u001b[0;34m[\u001b[0m\u001b[0;34m:\u001b[0m\u001b[0;36m5\u001b[0m\u001b[0;34m]\u001b[0m\u001b[0;34m\u001b[0m\u001b[0;34m\u001b[0m\u001b[0m\n",
      "\u001b[0;31mNameError\u001b[0m: name 'unames' is not defined"
     ]
    }
   ],
   "source": [
    "from pandas import DataFrame, Series\n",
    "import pandas as pd\n",
    "import numpy as np\n",
    "\n",
    "path_1 = '/home/adrian/Documents/Python/Jupyter/pydata-book/ch02/movielens/movies.dat'\n",
    "path_2 = '/home/adrian/Documents/Python/Jupyter/pydata-book/ch02/movielens/ratings.dat'\n",
    "path_3 = '/home/adrian/Documents/Python/Jupyter/pydata-book/ch02/movielens/users.dat'\n",
    "\n",
    "mnames = ['movie id', 'movie name', 'movie genre']\n",
    "movies = pd.read_table(path_1, sep='::', header=None, names=mnames, engine='python')\n",
    "\n",
    "rnames = ['user id', 'movie id', 'rating', 'timestamp']\n",
    "ratings = pd.read_table(path_2, sep='::', header=None, names=rnames, engine='python')\n",
    "\n",
    "users = ['user id', 'gender', 'age', 'occupation', 'zip']\n",
    "users = pd.read_table(path_3, sep='::', header=None, names=unames, engine='python')\n",
    "users[:5]\n"
   ]
  },
  {
   "cell_type": "code",
   "execution_count": null,
   "id": "e9cc120a-ee08-4d79-aa40-da46999dc76b",
   "metadata": {},
   "outputs": [],
   "source": []
  }
 ],
 "metadata": {
  "kernelspec": {
   "display_name": "Python 3 (ipykernel)",
   "language": "python",
   "name": "python3"
  },
  "language_info": {
   "codemirror_mode": {
    "name": "ipython",
    "version": 3
   },
   "file_extension": ".py",
   "mimetype": "text/x-python",
   "name": "python",
   "nbconvert_exporter": "python",
   "pygments_lexer": "ipython3",
   "version": "3.8.10"
  }
 },
 "nbformat": 4,
 "nbformat_minor": 5
}
